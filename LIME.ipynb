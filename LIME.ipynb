{
  "nbformat": 4,
  "nbformat_minor": 0,
  "metadata": {
    "colab": {
      "provenance": [],
      "authorship_tag": "ABX9TyNr50XTXn8iixwrlzE5YIb+",
      "include_colab_link": true
    },
    "kernelspec": {
      "name": "python3",
      "display_name": "Python 3"
    },
    "language_info": {
      "name": "python"
    }
  },
  "cells": [
    {
      "cell_type": "markdown",
      "metadata": {
        "id": "view-in-github",
        "colab_type": "text"
      },
      "source": [
        "<a href=\"https://colab.research.google.com/github/newmantic/LIME/blob/main/LIME.ipynb\" target=\"_parent\"><img src=\"https://colab.research.google.com/assets/colab-badge.svg\" alt=\"Open In Colab\"/></a>"
      ]
    },
    {
      "cell_type": "code",
      "execution_count": 1,
      "metadata": {
        "id": "71HLIJcrklZZ"
      },
      "outputs": [],
      "source": [
        "import numpy as np\n",
        "import sklearn\n",
        "from sklearn.linear_model import Ridge\n",
        "from sklearn.metrics.pairwise import pairwise_distances\n",
        "from sklearn.utils import check_random_state\n",
        "import matplotlib.pyplot as plt"
      ]
    },
    {
      "cell_type": "code",
      "source": [
        "class LimeExplainer:\n",
        "    def __init__(self, kernel_width=0.75):\n",
        "        self.kernel_width = kernel_width\n",
        "        self.scaler = None\n",
        "\n",
        "    def kernel(self, distances):\n",
        "        \"\"\"\n",
        "        Exponential kernel to give more weight to points closer to the original instance.\n",
        "        \"\"\"\n",
        "        return np.sqrt(np.exp(-(distances ** 2) / self.kernel_width ** 2))\n",
        "\n",
        "    def generate_binary_perturbations(self, instance, num_samples=5000):\n",
        "        \"\"\"\n",
        "        Generate binary perturbations where each feature is either kept as is or turned off.\n",
        "        \"\"\"\n",
        "        np.random.seed(42)\n",
        "        # Binary perturbation: either keep the feature or set to zero\n",
        "        perturbations = np.random.randint(0, 2, (num_samples, instance.shape[1]))\n",
        "        perturbed_data = perturbations * instance  # Apply binary mask to original instance\n",
        "\n",
        "        # Compute distances and apply kernel\n",
        "        distances = pairwise_distances(perturbed_data, instance, metric='euclidean').ravel()\n",
        "        weights = self.kernel(distances)\n",
        "        return perturbed_data, weights\n",
        "\n",
        "    def fit_local_model(self, perturbations, predictions, weights):\n",
        "        \"\"\"\n",
        "        Fit a Ridge regression model locally on the perturbations.\n",
        "        \"\"\"\n",
        "        # Fit a simple Ridge model using perturbations and their weights\n",
        "        model = Ridge(alpha=1, fit_intercept=True)\n",
        "        model.fit(perturbations, predictions, sample_weight=weights)\n",
        "        return model\n",
        "\n",
        "    def explain(self, model, instance, num_samples=5000):\n",
        "        \"\"\"\n",
        "        Explain the predictions of the given model for a specific instance using LIME.\n",
        "        \"\"\"\n",
        "        # Scale instance if scaler is fitted\n",
        "        if self.scaler is not None:\n",
        "            instance = self.scaler.transform(instance.reshape(1, -1))\n",
        "\n",
        "        perturbations, weights = self.generate_binary_perturbations(instance, num_samples=num_samples)\n",
        "        model_predictions = model.predict(perturbations)\n",
        "\n",
        "        # Fit local model and extract feature importance\n",
        "        local_model = self.fit_local_model(perturbations, model_predictions, weights)\n",
        "        explanation = local_model.coef_\n",
        "        return explanation\n",
        "\n",
        "    def fit_scaler(self, X_train):\n",
        "        \"\"\"\n",
        "        Fit a scaler to normalize the data.\n",
        "        \"\"\"\n",
        "        self.scaler = StandardScaler().fit(X_train)"
      ],
      "metadata": {
        "id": "D6Y5TStz0kXP"
      },
      "execution_count": 17,
      "outputs": []
    },
    {
      "cell_type": "code",
      "source": [
        "from sklearn.datasets import load_iris\n",
        "from sklearn.tree import DecisionTreeClassifier\n",
        "from sklearn.model_selection import train_test_split\n",
        "\n",
        "# Load dataset and train a model\n",
        "iris = load_iris()\n",
        "X_train, X_test, y_train, y_test = train_test_split(iris.data, iris.target, test_size=0.2, random_state=42)\n",
        "model = DecisionTreeClassifier()\n",
        "model.fit(X_train, y_train)\n",
        "\n",
        "# Fit the scaler on the training data\n",
        "explainer = LimeExplainer(kernel_width=0.5)\n",
        "explainer.fit_scaler(X_train)\n",
        "\n",
        "# Select an instance to explain\n",
        "instance = X_test[0].reshape(1, -1)\n",
        "\n",
        "# Explain the prediction for the instance\n",
        "explanation = explainer.explain(model, instance)\n",
        "\n",
        "# Print feature importance for the instance\n",
        "print(\"Feature importance for the instance:\")\n",
        "for i, feature in enumerate(iris.feature_names):\n",
        "    print(f\"{feature}: {explanation[i]:.4f}\")"
      ],
      "metadata": {
        "colab": {
          "base_uri": "https://localhost:8080/"
        },
        "id": "XRE6zE8r0nSv",
        "outputId": "f6d751cc-62b1-48fa-d97c-e8d1a0709d87"
      },
      "execution_count": 19,
      "outputs": [
        {
          "output_type": "stream",
          "name": "stdout",
          "text": [
            "Feature importance for the instance:\n",
            "sepal length (cm): 0.0000\n",
            "sepal width (cm): 0.0000\n",
            "petal length (cm): 0.0000\n",
            "petal width (cm): 0.0000\n"
          ]
        }
      ]
    },
    {
      "cell_type": "code",
      "source": [
        "from sklearn.neural_network import MLPClassifier\n",
        "\n",
        "# Train a neural network model\n",
        "nn_model = MLPClassifier(hidden_layer_sizes=(50,), max_iter=1000, random_state=42)\n",
        "nn_model.fit(X_train, y_train)\n",
        "\n",
        "# Explain the prediction of the neural network\n",
        "nn_explanation = explainer.explain(nn_model, instance)\n",
        "\n",
        "# Print the explanation for the neural network model\n",
        "print(\"\\nNeural Network - Feature importance for the instance:\")\n",
        "for i, feature in enumerate(iris.feature_names):\n",
        "    print(f\"{feature}: {nn_explanation[i]:.4f}\")"
      ],
      "metadata": {
        "colab": {
          "base_uri": "https://localhost:8080/"
        },
        "id": "uO20-RK205Y_",
        "outputId": "30d8af3f-f1dd-4bca-95f8-4697e39d4b5f"
      },
      "execution_count": 18,
      "outputs": [
        {
          "output_type": "stream",
          "name": "stdout",
          "text": [
            "\n",
            "Neural Network - Feature importance for the instance:\n",
            "sepal length (cm): -0.6042\n",
            "sepal width (cm): -0.8378\n",
            "petal length (cm): 0.8479\n",
            "petal width (cm): 2.0943\n"
          ]
        }
      ]
    }
  ]
}